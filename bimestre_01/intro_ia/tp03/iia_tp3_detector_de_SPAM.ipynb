{
 "cells": [
  {
   "cell_type": "markdown",
   "id": "fadd4f97a897731c",
   "metadata": {
    "collapsed": false,
    "jupyter": {
     "outputs_hidden": false
    }
   },
   "source": [
    "# TP3: Detector de SPAM"
   ]
  },
  {
   "cell_type": "markdown",
   "id": "b02fcdaa",
   "metadata": {},
   "source": [
    "## Autores: \n",
    "* Mauro Barquinero\n",
    "* Yandri Uchuari\n",
    "* Marck Murillo\n",
    "* Matias Tripode\n"
   ]
  },
  {
   "cell_type": "code",
   "execution_count": 390,
   "id": "ae42b5cdc085ad0f",
   "metadata": {
    "ExecuteTime": {
     "end_time": "2024-04-11T15:52:16.120115Z",
     "start_time": "2024-04-11T15:52:15.893237Z"
    },
    "collapsed": false,
    "jupyter": {
     "outputs_hidden": false
    }
   },
   "outputs": [],
   "source": [
    "import pandas as pd\n",
    "import matplotlib.pyplot as plt\n",
    "import matplotlib.pyplot as plt\n",
    "from sklearn.model_selection import train_test_split\n",
    "from sklearn.preprocessing import StandardScaler\n",
    "# Metricas\n",
    "from sklearn.metrics import accuracy_score, classification_report, precision_score, recall_score, confusion_matrix, ConfusionMatrixDisplay\n",
    "from sklearn.metrics import roc_curve, auc\n",
    "# Clasificadores de Regression Logistica\n",
    "from sklearn.linear_model import LogisticRegression\n",
    "# Clasificadores Bayessianos Ingenuos\n",
    "from sklearn.naive_bayes import MultinomialNB, BernoulliNB\n"
   ]
  },
  {
   "cell_type": "markdown",
   "id": "d49baa08",
   "metadata": {},
   "source": [
    "---------------------------------------------"
   ]
  },
  {
   "cell_type": "markdown",
   "id": "e3778638",
   "metadata": {},
   "source": [
    "**1. ¿Cuáles son las 10 palabras más encontradas en correos con SPAM y en correos No SPAM?**"
   ]
  },
  {
   "cell_type": "code",
   "execution_count": 391,
   "id": "93842aef",
   "metadata": {},
   "outputs": [
    {
     "name": "stdout",
     "output_type": "stream",
     "text": [
      "Las 10 Palabras más comunes en SPAM:\n",
      "                      Palabra  Frecuencia  Tipo\n",
      "0    capital_run_length_total  853233.000  SPAM\n",
      "1  capital_run_length_longest  189265.000  SPAM\n",
      "2  capital_run_length_average   17258.246  SPAM\n",
      "3                         you    4105.610  SPAM\n",
      "4                        your    2502.610  SPAM\n",
      "5                        will     997.100  SPAM\n",
      "6                        free     939.790  SPAM\n",
      "7                         our     931.800  SPAM\n",
      "8                 char_freq_!     931.361  SPAM\n",
      "9                         all     732.080  SPAM\n",
      "Las 10 Palabras más comunes en NO SPAM:\n",
      "                      Palabra  Frecuencia     Tipo\n",
      "0    capital_run_length_total  450181.000  NO SPAM\n",
      "1  capital_run_length_longest   50782.000  NO SPAM\n",
      "2  capital_run_length_average    6627.915  NO SPAM\n",
      "3                         you    3541.710  NO SPAM\n",
      "4                      george    3527.560  NO SPAM\n",
      "5                          hp    2496.580  NO SPAM\n",
      "6                        will    1495.270  NO SPAM\n",
      "7                        your    1223.100  NO SPAM\n",
      "8                         hpl    1204.400  NO SPAM\n",
      "9                          re    1159.140  NO SPAM\n"
     ]
    }
   ],
   "source": [
    "dataset = pd.read_csv(\"spambase.csv\")\n",
    "\n",
    "# Separar SPAM y NO SPAM\n",
    "spam_data = dataset[dataset['spam'] == 1]\n",
    "no_spam_data = dataset[dataset['spam'] == 0]\n",
    "\n",
    "# Sumar las frecuencias de palabras para cada clase\n",
    "spam_word_freq = spam_data.iloc[:, :-1].sum()\n",
    "no_spam_word_freq = no_spam_data.iloc[:, :-1].sum()\n",
    "\n",
    "# Obtener las 10 palabras más comunes en cada clase\n",
    "top_spam_words = spam_word_freq.nlargest(10)\n",
    "top_no_spam_words = no_spam_word_freq.nlargest(10)\n",
    "\n",
    "# Crear un DataFrame para visualización\n",
    "def clean_feature_names(name):\n",
    "    return name.replace('word_freq_', '')\n",
    "\n",
    "top_spam_words = pd.DataFrame({\n",
    "    'Palabra': [clean_feature_names(x) for x in top_spam_words.index],\n",
    "    'Frecuencia': top_spam_words.values,\n",
    "    'Tipo': 'SPAM'\n",
    "})\n",
    "\n",
    "top_no_spam_words = pd.DataFrame({\n",
    "    'Palabra': [clean_feature_names(x) for x in top_no_spam_words.index],\n",
    "    'Frecuencia': top_no_spam_words.values,\n",
    "    'Tipo': 'NO SPAM'\n",
    "})\n",
    "\n",
    "\n",
    "# Mostrar resultados\n",
    "print(\"Las 10 Palabras más comunes en SPAM:\")\n",
    "print(top_spam_words)\n",
    "\n",
    "print(\"Las 10 Palabras más comunes en NO SPAM:\")\n",
    "print(top_no_spam_words)\n"
   ]
  },
  {
   "cell_type": "markdown",
   "id": "3241cab9",
   "metadata": {},
   "source": [
    " **¿Hay palabras en común?**"
   ]
  },
  {
   "cell_type": "code",
   "execution_count": 392,
   "id": "a355b6cb",
   "metadata": {},
   "outputs": [
    {
     "name": "stdout",
     "output_type": "stream",
     "text": [
      "\n",
      "Palabras comunes en ambos tops:\n",
      "{'capital_run_length_average', 'capital_run_length_total', 'your', 'you', 'will', 'capital_run_length_longest'}\n"
     ]
    }
   ],
   "source": [
    "\n",
    "# Encontrar palabras comunes\n",
    "common_words = set(top_spam_words['Palabra']).intersection(set(top_no_spam_words['Palabra']))\n",
    "\n",
    "print(\"\\nPalabras comunes en ambos tops:\")\n",
    "print(common_words)"
   ]
  },
  {
   "cell_type": "markdown",
   "id": "dcf2af7b",
   "metadata": {},
   "source": [
    "**¿Algunas llaman la atención?**"
   ]
  },
  {
   "cell_type": "markdown",
   "id": "debedbff",
   "metadata": {},
   "source": [
    "Es llamativo que ambas `you` y `your` sean palabras comunes en SPAM y NO SPAM, y ademas con alta frequencia.  "
   ]
  },
  {
   "cell_type": "markdown",
   "id": "76d3f507",
   "metadata": {},
   "source": [
    "--------------------"
   ]
  },
  {
   "cell_type": "markdown",
   "id": "c3968169",
   "metadata": {},
   "source": [
    "**2. Separe el conjunto de datos en un conjunto de entrenamiento y un conjunto de prueba (70% y 30% respectivamente).**"
   ]
  },
  {
   "cell_type": "code",
   "execution_count": 393,
   "id": "d851c620",
   "metadata": {},
   "outputs": [],
   "source": [
    "# Obtenemos los atributos y target\n",
    "X = (dataset.drop(columns=\"spam\") * 100).astype(int)\n",
    "#X = dataset2.drop(columns=\"spam\")\n",
    "y = dataset[\"spam\"]"
   ]
  },
  {
   "cell_type": "code",
   "execution_count": 394,
   "id": "9246ab6a",
   "metadata": {},
   "outputs": [],
   "source": [
    "X_train, X_test, y_train, y_test= train_test_split(X, y, test_size = 0.3)"
   ]
  },
  {
   "cell_type": "markdown",
   "id": "d43dbf64",
   "metadata": {},
   "source": [
    "--------------------------"
   ]
  },
  {
   "cell_type": "markdown",
   "id": "4e8d547f",
   "metadata": {},
   "source": [
    "**3. Utilizando un clasificador de Bayes ingenuo, entrene con el conjunto de entrenamiento.**"
   ]
  },
  {
   "cell_type": "code",
   "execution_count": 395,
   "id": "4d071dbf",
   "metadata": {},
   "outputs": [],
   "source": [
    "# Entrenar modelo BernoulliNB\n",
    "bernoulli_model = BernoulliNB()\n",
    "\n",
    "# Entrenar usando el conjunto de entrenamiento\n",
    "bernoulli_model.fit(X_train, y_train)\n",
    "\n",
    "# Predicciones BernoulliNB\n",
    "y_train_pred_nb = bernoulli_model.predict(X_train)\n",
    "y_test_pred_nb = bernoulli_model.predict(X_test)"
   ]
  },
  {
   "cell_type": "markdown",
   "id": "3a46300a",
   "metadata": {},
   "source": [
    "------------------------"
   ]
  },
  {
   "cell_type": "markdown",
   "id": "0c352409",
   "metadata": {},
   "source": [
    "**4. Utilizando un clasificador de Regresión Logística, entrene con el conjunto de entrenamiento (en este caso, normalice los datos).**"
   ]
  },
  {
   "cell_type": "code",
   "execution_count": 396,
   "id": "ae9d4343",
   "metadata": {},
   "outputs": [],
   "source": [
    "# Normalizar los datos\n",
    "scaler = StandardScaler() #MinMaxScaler()\n",
    "X_train_normalized = scaler.fit_transform(X_train)\n",
    "X_test_normalized = scaler.transform(X_test)\n",
    "\n",
    "# Crear el modelo de regresión logística\n",
    "logistic_model = LogisticRegression(max_iter=1000)\n",
    "\n",
    "# Entrenar el modelo\n",
    "logistic_model.fit(X_train_normalized, y_train)\n",
    "\n",
    "# Predicciones\n",
    "y_train_pred = logistic_model.predict(X_train_normalized)\n",
    "y_test_pred = logistic_model.predict(X_test_normalized)"
   ]
  },
  {
   "cell_type": "markdown",
   "id": "51358a64",
   "metadata": {},
   "source": [
    "----------------------------------"
   ]
  },
  {
   "cell_type": "markdown",
   "id": "54fdf447",
   "metadata": {},
   "source": [
    "**5. Calcule la matriz de confusión del conjunto de evaluación para ambos modelos.**\n",
    "- ¿Qué tipo de error comete más cada modelo? \n",
    "- ¿Cuál de los dos tipos de error crees que es más importante para este problema?"
   ]
  },
  {
   "cell_type": "code",
   "execution_count": 397,
   "id": "2ab18f66",
   "metadata": {},
   "outputs": [
    {
     "name": "stdout",
     "output_type": "stream",
     "text": [
      "Matriz de confusión para Logistic Regression:\n",
      "Verdaderos negativos: 763\n",
      "Falsos positivos: 47\n",
      "Falsos negativos: 80\n",
      "Verdaderos positivos: 491\n",
      "\n",
      "Matriz de confusión para BernulliNB:\n",
      "Verdaderos negativos: 750\n",
      "Falsos positivos: 60\n",
      "Falsos negativos: 120\n",
      "Verdaderos positivos: 451\n"
     ]
    }
   ],
   "source": [
    "# Matriz de confusión para Logistic Regression\n",
    "lr_conf_matrix = confusion_matrix(y_test, y_test_pred)\n",
    "print(\"Matriz de confusión para Logistic Regression:\")\n",
    "print(f\"Verdaderos negativos: {lr_conf_matrix[0][0]}\")\n",
    "print(f\"Falsos positivos: {lr_conf_matrix[0][1]}\")\n",
    "print(f\"Falsos negativos: {lr_conf_matrix[1][0]}\")\n",
    "print(f\"Verdaderos positivos: {lr_conf_matrix[1][1]}\")\n",
    "\n",
    "# Matriz de confusión para Logistic Regression\n",
    "nb_conf_matrix = confusion_matrix(y_test, y_test_pred_nb)\n",
    "print(\"\")\n",
    "print(\"Matriz de confusión para BernulliNB:\")\n",
    "print(f\"Verdaderos negativos: {nb_conf_matrix[0][0]}\")\n",
    "print(f\"Falsos positivos: {nb_conf_matrix[0][1]}\")\n",
    "print(f\"Falsos negativos: {nb_conf_matrix[1][0]}\")\n",
    "print(f\"Verdaderos positivos: {nb_conf_matrix[1][1]}\")"
   ]
  },
  {
   "cell_type": "markdown",
   "id": "c5008b9b",
   "metadata": {},
   "source": [
    "**Respuesta**\n",
    "\n",
    "**¿Qué tipo de error comete más cada modelo?**\n",
    "\n",
    "- Ambos modelos cometen los cuatro erroes, pero se destaca que BernoulliNB tiene un número mayor de errores en cuanto a `Falsos negativos` que son de vital importancia para este caso (ver print arriba).\n",
    "\n",
    "**¿Cuál de los dos tipos de error crees que es más importante para este problema?**\n",
    "\n",
    "- Los falsos negativos (FN) son más importantes en este contexto, ya que permitir que el SPAM llegue a la bandeja principal del usuario puede tener un impacto negativo en la experiencia del usuario y podría representar riesgos de seguridad.\n"
   ]
  },
  {
   "cell_type": "markdown",
   "id": "5eeb0ac1",
   "metadata": {},
   "source": [
    "-----------------------------------"
   ]
  },
  {
   "cell_type": "markdown",
   "id": "7cfc297a",
   "metadata": {},
   "source": [
    "**6. Calcule la precisión y la recuperación de ambos modelos.** "
   ]
  },
  {
   "cell_type": "code",
   "execution_count": 398,
   "id": "02eb6368",
   "metadata": {},
   "outputs": [
    {
     "name": "stdout",
     "output_type": "stream",
     "text": [
      "=== Evaluación en Conjunto de Entrenamiento: BernoulliNB ===\n",
      "Accuracy: 0.8975155279503105\n",
      "              precision    recall  f1-score   support\n",
      "\n",
      "           0       0.90      0.94      0.92      1978\n",
      "           1       0.90      0.83      0.86      1242\n",
      "\n",
      "    accuracy                           0.90      3220\n",
      "   macro avg       0.90      0.88      0.89      3220\n",
      "weighted avg       0.90      0.90      0.90      3220\n",
      "\n",
      "\n",
      "=== Evaluación en Conjunto de Prueba: BernoulliNB ===\n",
      "Accuracy: 0.8696596669080376\n",
      "              precision    recall  f1-score   support\n",
      "\n",
      "           0       0.86      0.93      0.89       810\n",
      "           1       0.88      0.79      0.83       571\n",
      "\n",
      "    accuracy                           0.87      1381\n",
      "   macro avg       0.87      0.86      0.86      1381\n",
      "weighted avg       0.87      0.87      0.87      1381\n",
      "\n"
     ]
    }
   ],
   "source": [
    "# Evaluar modelo BernoulliNB\n",
    "print(\"=== Evaluación en Conjunto de Entrenamiento: BernoulliNB ===\")\n",
    "print(\"Accuracy:\", accuracy_score(y_train, y_train_pred_nb))\n",
    "print(classification_report(y_train, y_train_pred_nb))\n",
    "\n",
    "print(\"\\n=== Evaluación en Conjunto de Prueba: BernoulliNB ===\")\n",
    "print(\"Accuracy:\", accuracy_score(y_test, y_test_pred_nb))\n",
    "print(classification_report(y_test, y_test_pred_nb))\n",
    "\n"
   ]
  },
  {
   "cell_type": "code",
   "execution_count": 399,
   "id": "aeed898a",
   "metadata": {},
   "outputs": [
    {
     "name": "stdout",
     "output_type": "stream",
     "text": [
      "=== Evaluación en Conjunto de Entrenamiento ===\n",
      "Accuracy: 0.9372670807453416\n",
      "              precision    recall  f1-score   support\n",
      "\n",
      "           0       0.94      0.96      0.95      1978\n",
      "           1       0.93      0.91      0.92      1242\n",
      "\n",
      "    accuracy                           0.94      3220\n",
      "   macro avg       0.94      0.93      0.93      3220\n",
      "weighted avg       0.94      0.94      0.94      3220\n",
      "\n",
      "\n",
      "=== Evaluación en Conjunto de Prueba ===\n",
      "Accuracy: 0.9080376538740044\n",
      "              precision    recall  f1-score   support\n",
      "\n",
      "           0       0.91      0.94      0.92       810\n",
      "           1       0.91      0.86      0.89       571\n",
      "\n",
      "    accuracy                           0.91      1381\n",
      "   macro avg       0.91      0.90      0.90      1381\n",
      "weighted avg       0.91      0.91      0.91      1381\n",
      "\n"
     ]
    }
   ],
   "source": [
    "# Evaluar el modelo LogisticRegression\n",
    "print(\"=== Evaluación en Conjunto de Entrenamiento ===\")\n",
    "print(\"Accuracy:\", accuracy_score(y_train, y_train_pred))\n",
    "print(classification_report(y_train, y_train_pred))\n",
    "\n",
    "print(\"\\n=== Evaluación en Conjunto de Prueba ===\")\n",
    "print(\"Accuracy:\", accuracy_score(y_test, y_test_pred))\n",
    "print(classification_report(y_test, y_test_pred))"
   ]
  },
  {
   "cell_type": "markdown",
   "id": "e3fd6d4f",
   "metadata": {},
   "source": [
    "**BernoulliNB**\n",
    "\n",
    "<center>\n",
    "\n",
    "class | precision | recall | accuracy | f1-score | support | train/test\n",
    ":---: | :---: | :---: | :---: | :---: | :---: | :---:\n",
    "NO SPAM |  0.89   |  0.93    | 0.89 |  0.91   |    1952 | train\n",
    "SPAM    | 0.89    |  0.82    | 0.89 |  0.86   |    1268 | train\n",
    "NO SPAM |  0.88   |  0.93    | 0.87 |  0.90   |     836 | test\n",
    "SPAM    | 0.88    |  0.80    | 0.87 |  0.84   |     545 | test\n",
    "\n",
    "\n",
    "</center>\n",
    "\n",
    "**Logistic Regression**\n",
    "\n",
    "<center>\n",
    "\n",
    "class | precision | recall |  accuracy | f1-score | support | train/test\n",
    ":---: | :---: | :---: | :---: | :---: | :---: | :---:\n",
    "NO SPAM |  0.93  |   0.96   | 0.93 |  0.95    |  1952 | train\n",
    "SPAM    | 0.93   |   0.90   | 0.93 |  0.91 |    1268 | train\n",
    "NO SPAM |  0.92  |    0.95  | 0.92 | 0.94  |     836 | test\n",
    "SPAM    |  0.93  |   0.88   | 0.92 |  0.90   |    545 | test\n",
    "\n",
    "\n",
    "</center>"
   ]
  },
  {
   "cell_type": "markdown",
   "id": "8dc26ac9",
   "metadata": {},
   "source": [
    "Para cada métrica:\n",
    " \n",
    "- ¿Cuál es el mejor modelo? \n",
    "\n",
    "**Respuesta:**\n",
    "    - El Logisitc Regression tiene mayor `recall` (recuperacion) y mas `acurracy` (precision) que el BernulliNB. \n",
    "\n",
    "- ¿Cómo se relacionan estas métricas con los tipos de errores analizados en el punto anterior? \n",
    "\n",
    "**Respuesta:**\n",
    "    - **Precisión (Precision)**: Proporción de verdaderos positivos entre todos los positivos predichos.\n",
    "    - **Recuperación (Recall)**: Proporción de verdaderos positivos entre todos los positivos reales. Es útil cuando queremos minimizar los falsos negativo. Un alto recall significa que el modelo está identificando casi todos los SPAM, aunque pueda cometer algunos errores de falsos positivos\n",
    "\n",
    "- Expanda su respuesta.\n",
    "\n",
    "**Respuesta:**\n",
    "    - Como nos interesa minimizar falsos negativos, la metrica recall es la mas importante. Por ende el modelo con mayor recall será preferido."
   ]
  },
  {
   "cell_type": "markdown",
   "id": "c3106b97",
   "metadata": {},
   "source": [
    "----------------------------------"
   ]
  },
  {
   "cell_type": "markdown",
   "id": "6f2c8d72",
   "metadata": {},
   "source": [
    "**7. Obtenga la curva ROC y el AUC (Área Bajo la Curva ROC) de ambos modelos.**"
   ]
  },
  {
   "cell_type": "code",
   "execution_count": 400,
   "id": "3aab8747",
   "metadata": {},
   "outputs": [
    {
     "name": "stderr",
     "output_type": "stream",
     "text": [
      "/opt/anaconda3/envs/intro_ai_311/lib/python3.11/site-packages/sklearn/base.py:486: UserWarning: X has feature names, but LogisticRegression was fitted without feature names\n",
      "  warnings.warn(\n"
     ]
    },
    {
     "data": {
      "image/png": "[encoded data removed]",
      "text/plain": [
       "<Figure size 800x600 with 1 Axes>"
      ]
     },
     "metadata": {},
     "output_type": "display_data"
    }
   ],
   "source": [
    "# Obtener probabilidades de predicción para ambos modelos\n",
    "logistic_probs = logistic_model.predict_proba(X_test)[:, 1]\n",
    "bernoulli_probs = bernoulli_model.predict_proba(X_test)[:, 1]\n",
    "\n",
    "# Calcular curvas ROC\n",
    "fpr_logistic, tpr_logistic, _ = roc_curve(y_test, logistic_probs)\n",
    "fpr_bernoulli, tpr_bernoulli, _ = roc_curve(y_test, bernoulli_probs)\n",
    "\n",
    "# Calcular AUC\n",
    "auc_logistic = auc(fpr_logistic, tpr_logistic)\n",
    "auc_bernoulli = auc(fpr_bernoulli, tpr_bernoulli)\n",
    "\n",
    "# Graficar curvas ROC\n",
    "plt.figure(figsize=(8, 6))\n",
    "plt.plot(fpr_logistic, tpr_logistic, label=f'Logistic Regression (AUC = {auc_logistic:.2f})', color='blue')\n",
    "plt.plot(fpr_bernoulli, tpr_bernoulli, label=f'BernoulliNB (AUC = {auc_bernoulli:.2f})', color='green')\n",
    "plt.plot([0, 1], [0, 1], 'k--', label='Random Guessing (AUC = 0.50)')\n",
    "\n",
    "# Personalizar gráfico\n",
    "plt.title('Curva ROC Comparativa')\n",
    "plt.xlabel('False Positive Rate (FPR)')\n",
    "plt.ylabel('True Positive Rate (TPR)')\n",
    "plt.legend(loc='lower right')\n",
    "plt.grid()\n",
    "plt.show()\n"
   ]
  }
 ],
 "metadata": {
  "kernelspec": {
   "display_name": "intro_ai_311",
   "language": "python",
   "name": "python3"
  },
  "language_info": {
   "codemirror_mode": {
    "name": "ipython",
    "version": 3
   },
   "file_extension": ".py",
   "mimetype": "text/x-python",
   "name": "python",
   "nbconvert_exporter": "python",
   "pygments_lexer": "ipython3",
   "version": "3.11.10"
  }
 },
 "nbformat": 4,
 "nbformat_minor": 5
}
